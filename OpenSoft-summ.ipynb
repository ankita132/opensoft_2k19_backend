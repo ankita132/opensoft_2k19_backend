{
 "cells": [
  {
   "cell_type": "code",
   "execution_count": 7,
   "metadata": {},
   "outputs": [],
   "source": [
    "from gensim.summarization.summarizer import summarize"
   ]
  },
  {
   "cell_type": "code",
   "execution_count": 8,
   "metadata": {},
   "outputs": [
    {
     "name": "stdout",
     "output_type": "stream",
     "text": [
      "[nltk_data] Downloading package punkt to /home/sree/nltk_data...\n",
      "[nltk_data]   Package punkt is already up-to-date!\n"
     ]
    },
    {
     "data": {
      "text/plain": [
       "True"
      ]
     },
     "execution_count": 8,
     "metadata": {},
     "output_type": "execute_result"
    }
   ],
   "source": [
    "import numpy as np\n",
    "import pandas as pd\n",
    "import nltk\n",
    "nltk.download('punkt') # one time execution\n"
   ]
  },
  {
   "cell_type": "code",
   "execution_count": 10,
   "metadata": {},
   "outputs": [],
   "source": [
    "file = open(\"All_FT/1953_A_1.txt\")\n",
    "sentences = file.readlines()"
   ]
  },
  {
   "cell_type": "code",
   "execution_count": 13,
   "metadata": {},
   "outputs": [],
   "source": [
    "k = 0\n",
    "for j,i in enumerate(sentences):\n",
    "    if i[:2] == \"1.\":\n",
    "        k = j\n",
    "        break\n",
    "sentences = sentences[k:]"
   ]
  },
  {
   "cell_type": "code",
   "execution_count": 15,
   "metadata": {},
   "outputs": [],
   "source": [
    "sentences = [\" \".join(i.split()[1:]) for i in sentences]"
   ]
  },
  {
   "cell_type": "code",
   "execution_count": 33,
   "metadata": {},
   "outputs": [],
   "source": [
    "len(sentences)\n",
    "prefix = \"\\n\".join(sentences[:-2])\n",
    "postfix = \"\\n\".join(sentences[-2:])"
   ]
  },
  {
   "cell_type": "code",
   "execution_count": 46,
   "metadata": {},
   "outputs": [
    {
     "name": "stdout",
     "output_type": "stream",
     "text": [
      "When income-tax was paid under the Act of 1918, the partnership concern consisted of three partners, Mathews, Figgies and Notley.\n",
      "Before the Tribunal it was argued on behalf of the Commissioner that the partnership was nothing but an association of persons and therefore, in 24 174 order to get relief under section 25(4) of the Act the partners of 1939 must be the same as the partners of 1947 when the firm was succeeded by the company.\n",
      "The Tribunal repelled this contention and held that the relief contemplated by section 25(4) of the Income-tax Act was to be given to the business and not to the persons carrying on the business and that mere changes in the constitution of the firm had to be ignored.\n",
      "We have no doubt that the Tribunal and the High Court were right in holding that in spite of the mere changes in the constitution of the firm, the business of the firm as originally constituted continued as tea brokers right from its inception till the time it was succeeded by the limited company and that it was the same unit all through, carrying on the same business, at the same place and there was no cesser of that business or any change in the unit.\n",
      "The Tribunal in spite of this document took the view that under the Partnership Act a firm could be carried on even if there was a change in its constitution.\n"
     ]
    }
   ],
   "source": [
    "from gensim.summarization import keywords\n",
    "print(summarize(prefix,word_count=100))\n",
    "print(summarize(postfix,word_count=100))"
   ]
  }
 ],
 "metadata": {
  "kernelspec": {
   "display_name": "Python 3",
   "language": "python",
   "name": "python3"
  },
  "language_info": {
   "codemirror_mode": {
    "name": "ipython",
    "version": 3
   },
   "file_extension": ".py",
   "mimetype": "text/x-python",
   "name": "python",
   "nbconvert_exporter": "python",
   "pygments_lexer": "ipython3",
   "version": "3.6.5"
  }
 },
 "nbformat": 4,
 "nbformat_minor": 2
}
